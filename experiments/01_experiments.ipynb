{
 "cells": [
  {
   "cell_type": "code",
   "execution_count": 1,
   "metadata": {},
   "outputs": [
    {
     "data": {
      "text/plain": [
       "'/Users/tapankheni/Developer/POC-SWE-RAG'"
      ]
     },
     "execution_count": 1,
     "metadata": {},
     "output_type": "execute_result"
    }
   ],
   "source": [
    "import os\n",
    "\n",
    "os.chdir(\"../\")\n",
    "%pwd"
   ]
  },
  {
   "cell_type": "code",
   "execution_count": 3,
   "metadata": {},
   "outputs": [
    {
     "data": {
      "text/plain": [
       "True"
      ]
     },
     "execution_count": 3,
     "metadata": {},
     "output_type": "execute_result"
    }
   ],
   "source": [
    "from dotenv import load_dotenv\n",
    "\n",
    "load_dotenv()"
   ]
  },
  {
   "cell_type": "code",
   "execution_count": 11,
   "metadata": {},
   "outputs": [],
   "source": [
    "import json\n",
    "import re\n",
    "from groq import Groq\n",
    "import httpx"
   ]
  },
  {
   "cell_type": "code",
   "execution_count": 16,
   "metadata": {},
   "outputs": [],
   "source": [
    "groq_chat_url = \"https://api.groq.com/openai/v1/chat/completions\"\n",
    "\n",
    "def parse_developer_query(user_input):\n",
    "    \"\"\"\n",
    "    Takes a user query or issue as input, sends it to Groq LLM to analyze,\n",
    "    and returns a structured JSON with extracted components.\n",
    "    \n",
    "    Args:\n",
    "        user_input (str): The user's query, which may contain code snippets, error messages, etc.\n",
    "        \n",
    "    Returns:\n",
    "        dict: JSON response with user_query, context, and error components\n",
    "    \"\"\"\n",
    "    \n",
    "    try:\n",
    "        system_prompt = \"\"\"\n",
    "        You are an AI assistant specialized in analyzing developer messages. Your task is to parse technical \n",
    "        questions that may contain code snippets, error messages, or other technical information.\n",
    "\n",
    "        You must extract or construct three key components:\n",
    "        1. user_query: The natural language question the user is asking. If there's no explicit question, construct \n",
    "        one based on the code and errors. This should be a clear, concise representation of what the user wants to know.\n",
    "        2. context: Any code snippets that provide context for the question. Extract ALL code blocks completely WITHOUT including markdown syntax like ```python or ```. Only include the actual code.\n",
    "        3. error: Any error messages or stack traces present in the input. Extract these verbatim.\n",
    "\n",
    "        Return ONLY a valid JSON object with these three fields, nothing else. Do not include explanations or additional text.\n",
    "\n",
    "        Do NOT fabricate or add any information not present in the original input. If a field has no relevant content, return an empty string for that field.\n",
    "\n",
    "        Example input:\n",
    "        Modeling's `separability_matrix` does not compute separability correctly for nested CompoundModels Consider the following model: ```python from astropy.modeling import models as m from astropy.modeling.separable import separability_matrix cm = m.Linear1D(10) & m.Linear1D(5) ``` It's separability matrix as you might expect is a diagonal: ```python >>> separability_matrix(cm) array([[ True, False], [False, True]]) ``` If I make the model more complex: ```python >>> separability_matrix(m.Pix2Sky_TAN() & m.Linear1D(10) & m.Linear1D(5)) array([[ True, True, False, False], [ True, True, False, False], [False, False, True, False], [False, False, False, True]]) ``` The output matrix is again, as expected, the outputs and inputs to the linear models are separable and independent of each other. If however, I nest these compound models: ```python >>> separability_matrix(m.Pix2Sky_TAN() & cm) array([[ True, True, False, False], [ True, True, False, False], [False, False, True, True], [False, False, True, True]]) ``` Suddenly the inputs and outputs are no longer separable? This feels like a bug to me, but I might be missing something?\n",
    "\n",
    "        Example output:\n",
    "        {\n",
    "        \"user_query\": \"Is there a bug in the `separability_matrix` function that causes it to compute separability incorrectly for nested CompoundModels?\",\n",
    "        \"context\": \"from astropy.modeling import models as m\\nfrom astropy.modeling.separable import separability_matrix\\ncm = m.Linear1D(10) & m.Linear1D(5)\\n\\nseparability_matrix(cm)\\narray([[ True, False], [False, True]])\\n\\nseparability_matrix(m.Pix2Sky_TAN() & m.Linear1D(10) & m.Linear1D(5))\\narray([[ True, True, False, False], [ True, True, False, False], [False, False, True, False], [False, False, False, True]])\\n\\nseparability_matrix(m.Pix2Sky_TAN() & cm)\\narray([[ True, True, False, False], [ True, True, False, False], [False, False, True, True], [False, False, True, True]])\",\n",
    "        \"error\": \"\"\n",
    "        }\n",
    "        \"\"\"\n",
    "\n",
    "        user_prompt = f\"\"\"\n",
    "        Analyze the following developer message and extract the key components as specified:\n",
    "        \n",
    "        {user_input}\n",
    "        \n",
    "        Return a JSON with user_query, context, and error fields.\n",
    "        \"\"\"\n",
    "    \n",
    "        messages = [\n",
    "            {\n",
    "                \"role\": \"system\",\n",
    "                \"content\": system_prompt,\n",
    "            },\n",
    "            {\n",
    "                \"role\": \"user\",\n",
    "                \"content\": user_prompt,\n",
    "            }\n",
    "        ]\n",
    "        \n",
    "        headers = {\n",
    "            \"Content-Type\": \"application/json\",\n",
    "            \"Authorization\": f\"Bearer {os.getenv('GROQ_API_KEY')}\",\n",
    "        }\n",
    "        \n",
    "        payload = {\n",
    "            \"model\": \"gemma2-9b-it\",\n",
    "            \"messages\": messages,\n",
    "            \"response_format\": {\n",
    "                \"type\": \"json_object\"\n",
    "            },\n",
    "            \"temperature\": 0.1,\n",
    "            \"max_completion_tokens\": 2048,\n",
    "            \"stream\": False,\n",
    "        }\n",
    "        \n",
    "        try:\n",
    "            with httpx.Client(verify = False) as client:\n",
    "                response = client.post(groq_chat_url, headers=headers, json=payload)\n",
    "                response.raise_for_status()\n",
    "                response_data = response.json()[\"choices\"][0][\"message\"][\"content\"]\n",
    "                print(f'response_data: {response_data}')\n",
    "                print(f'response_data type: {type(response_data)}')\n",
    "                return json.loads(response_data)\n",
    "            \n",
    "        except json.JSONDecodeError as e:\n",
    "            print(f'failed to decode the reflected plan: {response.json()[\"choices\"][0][\"message\"]}')\n",
    "            return {\n",
    "                \"error\" :  \"Failed to parse LLM response into valid JSON\"\n",
    "            }\n",
    "    \n",
    "    except Exception as e:\n",
    "        print(f\"An error occurred while parsing the developer query: {e}\")\n",
    "        raise e"
   ]
  },
  {
   "cell_type": "code",
   "execution_count": 18,
   "metadata": {},
   "outputs": [
    {
     "name": "stdout",
     "output_type": "stream",
     "text": [
      "response_data: {\n",
      "  \"user_query\": \"Is there a bug in the `separability_matrix` function that causes it to compute separability incorrectly for nested CompoundModels?\",\n",
      "  \"context\": \"from astropy.modeling import models as m\\nfrom astropy.modeling.separable import separability_matrix\\ncm = m.Linear1D(10) & m.Linear1D(5)\\n\\nseparability_matrix(cm)\\narray([[ True, False],\\n[False, True]])\\n\\nseparability_matrix(m.Pix2Sky_TAN() & m.Linear1D(10) & m.Linear1D(5))\\narray([[ True, True, False, False],\\n[ True, True, False, False],\\n[False, False, True, False],\\n[False, False, False, True]])\\n\\nseparability_matrix(m.Pix2Sky_TAN() & cm)\\narray([[ True, True, False, False],\\n[ True, True, False, False],\\n[False, False, True, True],\\n[False, False, True, True]])\",\n",
      "  \"error\": \"\"\n",
      "}\n",
      "response_data type: <class 'str'>\n",
      "{'user_query': 'Is there a bug in the `separability_matrix` function that causes it to compute separability incorrectly for nested CompoundModels?', 'context': 'from astropy.modeling import models as m\\nfrom astropy.modeling.separable import separability_matrix\\ncm = m.Linear1D(10) & m.Linear1D(5)\\n\\nseparability_matrix(cm)\\narray([[ True, False],\\n[False, True]])\\n\\nseparability_matrix(m.Pix2Sky_TAN() & m.Linear1D(10) & m.Linear1D(5))\\narray([[ True, True, False, False],\\n[ True, True, False, False],\\n[False, False, True, False],\\n[False, False, False, True]])\\n\\nseparability_matrix(m.Pix2Sky_TAN() & cm)\\narray([[ True, True, False, False],\\n[ True, True, False, False],\\n[False, False, True, True],\\n[False, False, True, True]])', 'error': ''}\n"
     ]
    }
   ],
   "source": [
    "test_input = \"\"\"\n",
    "Modeling's `separability_matrix` does not compute separability correctly for nested CompoundModels\n",
    "Consider the following model:\n",
    "\n",
    "```python\n",
    "from astropy.modeling import models as m\n",
    "from astropy.modeling.separable import separability_matrix\n",
    "\n",
    "cm = m.Linear1D(10) & m.Linear1D(5)\n",
    "```\n",
    "\n",
    "It's separability matrix as you might expect is a diagonal:\n",
    "\n",
    "```python\n",
    ">>> separability_matrix(cm)\n",
    "array([[ True, False],\n",
    "[False, True]])\n",
    "```\n",
    "\n",
    "If I make the model more complex:\n",
    "```python\n",
    ">>> separability_matrix(m.Pix2Sky_TAN() & m.Linear1D(10) & m.Linear1D(5))\n",
    "array([[ True, True, False, False],\n",
    "[ True, True, False, False],\n",
    "[False, False, True, False],\n",
    "[False, False, False, True]])\n",
    "```\n",
    "\n",
    "The output matrix is again, as expected, the outputs and inputs to the linear models are separable and independent of each other.\n",
    "\n",
    "If however, I nest these compound models:\n",
    "```python\n",
    ">>> separability_matrix(m.Pix2Sky_TAN() & cm)\n",
    "array([[ True, True, False, False],\n",
    "[ True, True, False, False],\n",
    "[False, False, True, True],\n",
    "[False, False, True, True]])\n",
    "```\n",
    "Suddenly the inputs and outputs are no longer separable?\n",
    "\n",
    "This feels like a bug to me, but I might be missing something?\n",
    "\"\"\"\n",
    "\n",
    "preprocessed_user_input = parse_developer_query(user_input = test_input)\n",
    "print(preprocessed_user_input)"
   ]
  },
  {
   "cell_type": "code",
   "execution_count": 20,
   "metadata": {},
   "outputs": [
    {
     "name": "stdout",
     "output_type": "stream",
     "text": [
      "response_data: {\n",
      "  \"user_query\": \"How do I fix the FileNotFoundError when trying to read a CSV file with pandas?\",\n",
      "  \"context\": \"import pandas as pd\\ndf = pd.read_csv('data.csv')\\nprint(df.head())\",\n",
      "  \"error\": \"FileNotFoundError: [Errno 2] No such file or directory: 'data.csv'\"\n",
      "}\n",
      "response_data type: <class 'str'>\n",
      "{'user_query': 'How do I fix the FileNotFoundError when trying to read a CSV file with pandas?', 'context': \"import pandas as pd\\ndf = pd.read_csv('data.csv')\\nprint(df.head())\", 'error': \"FileNotFoundError: [Errno 2] No such file or directory: 'data.csv'\"}\n"
     ]
    }
   ],
   "source": [
    "test_input = \"\"\"\n",
    "I'm trying to read a CSV file with pandas but I'm getting an error:\n",
    "\n",
    "import pandas as pd\n",
    "df = pd.read_csv('data.csv')\n",
    "print(df.head())\n",
    "\n",
    "but got the following error:\n",
    "FileNotFoundError: [Errno 2] No such file or directory: 'data.csv'\n",
    "\n",
    "how do I fix this?\n",
    "\"\"\"\n",
    "\n",
    "preprocessed_user_input = parse_developer_query(user_input = test_input)\n",
    "print(preprocessed_user_input)"
   ]
  },
  {
   "cell_type": "code",
   "execution_count": 21,
   "metadata": {},
   "outputs": [
    {
     "name": "stdout",
     "output_type": "stream",
     "text": [
      "response_data: {\n",
      "  \"user_query\": \"How do I implement a function to call an API and return the response?\",\n",
      "  \"context\": \"\",\n",
      "  \"error\": \"\"\n",
      "}\n",
      "response_data type: <class 'str'>\n",
      "{'user_query': 'How do I implement a function to call an API and return the response?', 'context': '', 'error': ''}\n"
     ]
    }
   ],
   "source": [
    "test_input = \"implement a function to call the API and return the response\"\n",
    "\n",
    "preprocessed_user_input = parse_developer_query(user_input = test_input)\n",
    "print(preprocessed_user_input)"
   ]
  },
  {
   "cell_type": "code",
   "execution_count": null,
   "metadata": {},
   "outputs": [],
   "source": []
  }
 ],
 "metadata": {
  "kernelspec": {
   "display_name": "pocSWE",
   "language": "python",
   "name": "python3"
  },
  "language_info": {
   "codemirror_mode": {
    "name": "ipython",
    "version": 3
   },
   "file_extension": ".py",
   "mimetype": "text/x-python",
   "name": "python",
   "nbconvert_exporter": "python",
   "pygments_lexer": "ipython3",
   "version": "3.11.11"
  }
 },
 "nbformat": 4,
 "nbformat_minor": 2
}
